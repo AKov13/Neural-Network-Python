{
 "cells": [
  {
   "cell_type": "code",
   "execution_count": 1,
   "metadata": {},
   "outputs": [],
   "source": [
    "from keras.datasets import boston_housing\n",
    "from keras.models import Sequential\n",
    "from keras.layers import Dense"
   ]
  },
  {
   "cell_type": "markdown",
   "metadata": {},
   "source": [
    "# Загрузка набора данных"
   ]
  },
  {
   "cell_type": "code",
   "execution_count": 2,
   "metadata": {},
   "outputs": [
    {
     "name": "stdout",
     "output_type": "stream",
     "text": [
      "Downloading data from https://storage.googleapis.com/tensorflow/tf-keras-datasets/boston_housing.npz\n",
      "57344/57026 [==============================] - 0s 1us/step\n"
     ]
    }
   ],
   "source": [
    "(x_train, y_train), (x_test, y_test) = boston_housing.load_data()"
   ]
  },
  {
   "cell_type": "code",
   "execution_count": 12,
   "metadata": {},
   "outputs": [
    {
     "name": "stdout",
     "output_type": "stream",
     "text": [
      "Help on module keras.datasets.boston_housing in keras.datasets:\n",
      "\n",
      "NAME\n",
      "    keras.datasets.boston_housing - Boston housing price regression dataset.\n",
      "\n",
      "FILE\n",
      "    c:\\programdata\\anaconda3\\lib\\site-packages\\keras\\datasets\\boston_housing.py\n",
      "\n",
      "\n"
     ]
    }
   ],
   "source": [
    "help(boston_housing)"
   ]
  },
  {
   "cell_type": "code",
   "execution_count": 10,
   "metadata": {},
   "outputs": [
    {
     "name": "stdout",
     "output_type": "stream",
     "text": [
      "((404, 13), (404,)) ((102, 13), (102,))\n"
     ]
    }
   ],
   "source": [
    "print((x_train.shape, y_train.shape), (x_test.shape, y_test.shape))"
   ]
  },
  {
   "cell_type": "markdown",
   "metadata": {},
   "source": [
    "# Нормализация данных\n",
    "\n",
    "Вычитаем среднее значение и делим на стандартное отклонение"
   ]
  },
  {
   "cell_type": "code",
   "execution_count": 3,
   "metadata": {},
   "outputs": [],
   "source": [
    "# Среднее значение\n",
    "mean = x_train.mean(axis=0)\n",
    "# Стандартное отклонение\n",
    "std = x_train.std(axis=0)\n",
    "x_train -= mean\n",
    "x_train /= std\n",
    "x_test -= mean\n",
    "x_test /= std"
   ]
  },
  {
   "cell_type": "markdown",
   "metadata": {},
   "source": [
    "# Создаем сеть\n",
    "\n",
    "Выходной слой с одним линейным нейроном - для задачи регрессии функция активации не используется.\n",
    "\n",
    "Функция ошибки - среднеквадратичное отклонение.\n",
    "Метрика - среднее абсолютное отклонение."
   ]
  },
  {
   "cell_type": "code",
   "execution_count": 4,
   "metadata": {},
   "outputs": [],
   "source": [
    "model = Sequential()\n",
    "model.add(Dense(128, activation='relu', input_shape=(x_train.shape[1],)))\n",
    "model.add(Dense(1))\n",
    "model.compile(optimizer='adam', loss='mse', metrics=['mae'])"
   ]
  },
  {
   "cell_type": "markdown",
   "metadata": {},
   "source": [
    "# Обучение сети"
   ]
  },
  {
   "cell_type": "code",
   "execution_count": 5,
   "metadata": {},
   "outputs": [
    {
     "name": "stdout",
     "output_type": "stream",
     "text": [
      "Epoch 1/100\n",
      "404/404 - 0s - loss: 316.0478 - mae: 14.4990\n",
      "Epoch 2/100\n",
      "404/404 - 0s - loss: 43.7029 - mae: 4.3822\n",
      "Epoch 3/100\n",
      "404/404 - 0s - loss: 26.2578 - mae: 3.4753\n",
      "Epoch 4/100\n",
      "404/404 - 0s - loss: 21.2336 - mae: 3.2436\n",
      "Epoch 5/100\n",
      "404/404 - 0s - loss: 18.1940 - mae: 3.0180\n",
      "Epoch 6/100\n",
      "404/404 - 0s - loss: 15.5182 - mae: 2.8294\n",
      "Epoch 7/100\n",
      "404/404 - 0s - loss: 14.1300 - mae: 2.6200\n",
      "Epoch 8/100\n",
      "404/404 - 0s - loss: 12.3384 - mae: 2.5040\n",
      "Epoch 9/100\n",
      "404/404 - 0s - loss: 11.1681 - mae: 2.3692\n",
      "Epoch 10/100\n",
      "404/404 - 0s - loss: 10.9027 - mae: 2.3393\n",
      "Epoch 11/100\n",
      "404/404 - 0s - loss: 9.9126 - mae: 2.2541\n",
      "Epoch 12/100\n",
      "404/404 - 0s - loss: 9.7531 - mae: 2.2698\n",
      "Epoch 13/100\n",
      "404/404 - 0s - loss: 9.5370 - mae: 2.1917\n",
      "Epoch 14/100\n",
      "404/404 - 0s - loss: 9.1551 - mae: 2.1050\n",
      "Epoch 15/100\n",
      "404/404 - 0s - loss: 9.1492 - mae: 2.1632\n",
      "Epoch 16/100\n",
      "404/404 - 0s - loss: 8.5384 - mae: 2.1343\n",
      "Epoch 17/100\n",
      "404/404 - 0s - loss: 8.6491 - mae: 2.0684\n",
      "Epoch 18/100\n",
      "404/404 - 0s - loss: 8.4364 - mae: 2.0712\n",
      "Epoch 19/100\n",
      "404/404 - 0s - loss: 8.3937 - mae: 2.0315\n",
      "Epoch 20/100\n",
      "404/404 - 0s - loss: 7.9487 - mae: 2.0030\n",
      "Epoch 21/100\n",
      "404/404 - 0s - loss: 7.7331 - mae: 1.9899\n",
      "Epoch 22/100\n",
      "404/404 - 0s - loss: 7.7395 - mae: 1.9676\n",
      "Epoch 23/100\n",
      "404/404 - 0s - loss: 7.5329 - mae: 1.9194\n",
      "Epoch 24/100\n",
      "404/404 - 0s - loss: 7.2817 - mae: 1.9310\n",
      "Epoch 25/100\n",
      "404/404 - 0s - loss: 7.5545 - mae: 1.9504\n",
      "Epoch 26/100\n",
      "404/404 - 0s - loss: 7.1369 - mae: 1.9043\n",
      "Epoch 27/100\n",
      "404/404 - 0s - loss: 7.2157 - mae: 1.8848\n",
      "Epoch 28/100\n",
      "404/404 - 0s - loss: 7.0833 - mae: 1.8614\n",
      "Epoch 29/100\n",
      "404/404 - 0s - loss: 7.1372 - mae: 1.8788\n",
      "Epoch 30/100\n",
      "404/404 - 0s - loss: 7.1424 - mae: 1.8815\n",
      "Epoch 31/100\n",
      "404/404 - 0s - loss: 6.8170 - mae: 1.8610\n",
      "Epoch 32/100\n",
      "404/404 - 0s - loss: 6.8648 - mae: 1.8742\n",
      "Epoch 33/100\n",
      "404/404 - 0s - loss: 6.6624 - mae: 1.8336\n",
      "Epoch 34/100\n",
      "404/404 - 0s - loss: 6.5852 - mae: 1.7946\n",
      "Epoch 35/100\n",
      "404/404 - 0s - loss: 6.5966 - mae: 1.7911\n",
      "Epoch 36/100\n",
      "404/404 - 0s - loss: 6.3802 - mae: 1.8171\n",
      "Epoch 37/100\n",
      "404/404 - 0s - loss: 6.5500 - mae: 1.8114\n",
      "Epoch 38/100\n",
      "404/404 - 0s - loss: 6.5083 - mae: 1.8099\n",
      "Epoch 39/100\n",
      "404/404 - 0s - loss: 6.2413 - mae: 1.7657\n",
      "Epoch 40/100\n",
      "404/404 - 0s - loss: 6.2088 - mae: 1.7713\n",
      "Epoch 41/100\n",
      "404/404 - 0s - loss: 5.9882 - mae: 1.7514\n",
      "Epoch 42/100\n",
      "404/404 - 0s - loss: 5.8808 - mae: 1.7152\n",
      "Epoch 43/100\n",
      "404/404 - 0s - loss: 5.9524 - mae: 1.7376\n",
      "Epoch 44/100\n",
      "404/404 - 0s - loss: 5.7522 - mae: 1.7149\n",
      "Epoch 45/100\n",
      "404/404 - 0s - loss: 5.9528 - mae: 1.7386\n",
      "Epoch 46/100\n",
      "404/404 - 0s - loss: 5.8277 - mae: 1.7012\n",
      "Epoch 47/100\n",
      "404/404 - 0s - loss: 6.1390 - mae: 1.7637\n",
      "Epoch 48/100\n",
      "404/404 - 0s - loss: 5.7429 - mae: 1.6867\n",
      "Epoch 49/100\n",
      "404/404 - 0s - loss: 5.6748 - mae: 1.7164\n",
      "Epoch 50/100\n",
      "404/404 - 0s - loss: 5.9002 - mae: 1.7264\n",
      "Epoch 51/100\n",
      "404/404 - 0s - loss: 5.9902 - mae: 1.7149\n",
      "Epoch 52/100\n",
      "404/404 - 0s - loss: 5.8373 - mae: 1.7373\n",
      "Epoch 53/100\n",
      "404/404 - 0s - loss: 5.3924 - mae: 1.6196\n",
      "Epoch 54/100\n",
      "404/404 - 0s - loss: 5.5810 - mae: 1.6691\n",
      "Epoch 55/100\n",
      "404/404 - 0s - loss: 5.5831 - mae: 1.7416\n",
      "Epoch 56/100\n",
      "404/404 - 0s - loss: 5.6212 - mae: 1.6965\n",
      "Epoch 57/100\n",
      "404/404 - 0s - loss: 5.3403 - mae: 1.6643\n",
      "Epoch 58/100\n",
      "404/404 - 0s - loss: 5.2630 - mae: 1.6622\n",
      "Epoch 59/100\n",
      "404/404 - 0s - loss: 5.4548 - mae: 1.6496\n",
      "Epoch 60/100\n",
      "404/404 - 0s - loss: 5.3867 - mae: 1.6394\n",
      "Epoch 61/100\n",
      "404/404 - 0s - loss: 5.1636 - mae: 1.6041\n",
      "Epoch 62/100\n",
      "404/404 - 0s - loss: 5.2420 - mae: 1.6194\n",
      "Epoch 63/100\n",
      "404/404 - 0s - loss: 5.2678 - mae: 1.6580\n",
      "Epoch 64/100\n",
      "404/404 - 0s - loss: 4.9854 - mae: 1.6210\n",
      "Epoch 65/100\n",
      "404/404 - 0s - loss: 5.2515 - mae: 1.6100\n",
      "Epoch 66/100\n",
      "404/404 - 0s - loss: 5.1793 - mae: 1.6054\n",
      "Epoch 67/100\n",
      "404/404 - 0s - loss: 4.9342 - mae: 1.5654\n",
      "Epoch 68/100\n",
      "404/404 - 0s - loss: 5.1134 - mae: 1.6235\n",
      "Epoch 69/100\n",
      "404/404 - 0s - loss: 5.0272 - mae: 1.5830\n",
      "Epoch 70/100\n",
      "404/404 - 0s - loss: 5.2663 - mae: 1.6198\n",
      "Epoch 71/100\n",
      "404/404 - 0s - loss: 4.8890 - mae: 1.5534\n",
      "Epoch 72/100\n",
      "404/404 - 0s - loss: 5.0051 - mae: 1.5590\n",
      "Epoch 73/100\n",
      "404/404 - 0s - loss: 5.0072 - mae: 1.6351\n",
      "Epoch 74/100\n",
      "404/404 - 0s - loss: 4.8881 - mae: 1.5442\n",
      "Epoch 75/100\n",
      "404/404 - 0s - loss: 4.8015 - mae: 1.5976\n",
      "Epoch 76/100\n",
      "404/404 - 0s - loss: 4.9313 - mae: 1.6063\n",
      "Epoch 77/100\n",
      "404/404 - 0s - loss: 4.7920 - mae: 1.5569\n",
      "Epoch 78/100\n",
      "404/404 - 0s - loss: 4.8280 - mae: 1.5380\n",
      "Epoch 79/100\n",
      "404/404 - 0s - loss: 4.6697 - mae: 1.5603\n",
      "Epoch 80/100\n",
      "404/404 - 0s - loss: 4.8010 - mae: 1.5790\n",
      "Epoch 81/100\n",
      "404/404 - 0s - loss: 4.8527 - mae: 1.5586\n",
      "Epoch 82/100\n",
      "404/404 - 0s - loss: 4.6942 - mae: 1.5467\n",
      "Epoch 83/100\n",
      "404/404 - 0s - loss: 4.7458 - mae: 1.5461\n",
      "Epoch 84/100\n",
      "404/404 - 0s - loss: 4.6968 - mae: 1.5384\n",
      "Epoch 85/100\n",
      "404/404 - 0s - loss: 4.2800 - mae: 1.4882\n",
      "Epoch 86/100\n",
      "404/404 - 0s - loss: 4.5083 - mae: 1.5227\n",
      "Epoch 87/100\n",
      "404/404 - 0s - loss: 4.5735 - mae: 1.4994\n",
      "Epoch 88/100\n",
      "404/404 - 0s - loss: 4.4746 - mae: 1.5138\n",
      "Epoch 89/100\n",
      "404/404 - 0s - loss: 4.4537 - mae: 1.5337\n",
      "Epoch 90/100\n",
      "404/404 - 0s - loss: 4.3960 - mae: 1.4802\n",
      "Epoch 91/100\n",
      "404/404 - 0s - loss: 4.3395 - mae: 1.4760\n",
      "Epoch 92/100\n",
      "404/404 - 0s - loss: 4.4189 - mae: 1.5050\n",
      "Epoch 93/100\n",
      "404/404 - 0s - loss: 4.4171 - mae: 1.4625\n",
      "Epoch 94/100\n",
      "404/404 - 0s - loss: 4.3765 - mae: 1.5072\n",
      "Epoch 95/100\n",
      "404/404 - 0s - loss: 4.2258 - mae: 1.4781\n",
      "Epoch 96/100\n",
      "404/404 - 0s - loss: 4.4547 - mae: 1.5268\n",
      "Epoch 97/100\n",
      "404/404 - 0s - loss: 4.1248 - mae: 1.4357\n",
      "Epoch 98/100\n",
      "404/404 - 0s - loss: 4.2831 - mae: 1.4763\n",
      "Epoch 99/100\n",
      "404/404 - 0s - loss: 4.0591 - mae: 1.4717\n",
      "Epoch 100/100\n",
      "404/404 - 0s - loss: 4.2657 - mae: 1.4622\n"
     ]
    },
    {
     "data": {
      "text/plain": [
       "<tensorflow.python.keras.callbacks.History at 0x271d7a3a7f0>"
      ]
     },
     "execution_count": 5,
     "metadata": {},
     "output_type": "execute_result"
    }
   ],
   "source": [
    "model.fit(x_train, y_train, epochs=100, batch_size=1, verbose=2)"
   ]
  },
  {
   "cell_type": "markdown",
   "metadata": {},
   "source": [
    "# Оценка точности работы сети"
   ]
  },
  {
   "cell_type": "code",
   "execution_count": 6,
   "metadata": {},
   "outputs": [],
   "source": [
    "mse, mae = model.evaluate(x_test, y_test, verbose=0)"
   ]
  },
  {
   "cell_type": "code",
   "execution_count": 7,
   "metadata": {},
   "outputs": [
    {
     "name": "stdout",
     "output_type": "stream",
     "text": [
      "Средняя абсолютная ошибка (тысяч долларов): 2.314297914505005\n"
     ]
    }
   ],
   "source": [
    "print(\"Средняя абсолютная ошибка (тысяч долларов):\", mae)"
   ]
  },
  {
   "cell_type": "markdown",
   "metadata": {},
   "source": [
    "# Использование сети для предсказания цен недвижимости"
   ]
  },
  {
   "cell_type": "code",
   "execution_count": 8,
   "metadata": {},
   "outputs": [],
   "source": [
    "pred = model.predict(x_test)"
   ]
  },
  {
   "cell_type": "code",
   "execution_count": 9,
   "metadata": {},
   "outputs": [
    {
     "name": "stdout",
     "output_type": "stream",
     "text": [
      "Предсказанная стоимость: 18.770351 , правильная стоимость: 18.8\n"
     ]
    }
   ],
   "source": [
    "print(\"Предсказанная стоимость:\", pred[1][0], \", правильная стоимость:\", y_test[1])"
   ]
  },
  {
   "cell_type": "code",
   "execution_count": null,
   "metadata": {
    "collapsed": true
   },
   "outputs": [],
   "source": []
  }
 ],
 "metadata": {
  "kernelspec": {
   "display_name": "Python 3",
   "language": "python",
   "name": "python3"
  },
  "language_info": {
   "codemirror_mode": {
    "name": "ipython",
    "version": 3
   },
   "file_extension": ".py",
   "mimetype": "text/x-python",
   "name": "python",
   "nbconvert_exporter": "python",
   "pygments_lexer": "ipython3",
   "version": "3.7.3"
  }
 },
 "nbformat": 4,
 "nbformat_minor": 2
}
